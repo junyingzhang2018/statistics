{
 "cells": [
  {
   "cell_type": "markdown",
   "metadata": {},
   "source": [
    "### Python practice for probability and statistics book"
   ]
  },
  {
   "cell_type": "markdown",
   "metadata": {},
   "source": [
    "### Chp8 ANOVA and regression"
   ]
  },
  {
   "cell_type": "code",
   "execution_count": 1,
   "metadata": {
    "collapsed": true
   },
   "outputs": [],
   "source": [
    "import numpy as np\n",
    "import pandas as pd\n",
    "import matplotlib.pyplot as plt\n",
    "%matplotlib inline\n",
    "from scipy import stats"
   ]
  },
  {
   "cell_type": "code",
   "execution_count": 59,
   "metadata": {
    "collapsed": true
   },
   "outputs": [],
   "source": [
    "# eg 8.1.1 chicken receipes, balanced design\n",
    "data=pd.DataFrame([[1073, 1009, 1060,1001,1002,1012,1009,1028],[1107,1092,990,1109,1090,1074,1122,1001],[1093,1029,1080,1021,1022,1032,1029,1048]], index=[\"A1\",\"A2\",\"A3\"])"
   ]
  },
  {
   "cell_type": "code",
   "execution_count": 60,
   "metadata": {
    "collapsed": false
   },
   "outputs": [],
   "source": [
    "# transpose index and columns\n",
    "data=data.transpose()"
   ]
  },
  {
   "cell_type": "code",
   "execution_count": 61,
   "metadata": {
    "collapsed": false
   },
   "outputs": [
    {
     "data": {
      "text/html": [
       "<div>\n",
       "<style>\n",
       "    .dataframe thead tr:only-child th {\n",
       "        text-align: right;\n",
       "    }\n",
       "\n",
       "    .dataframe thead th {\n",
       "        text-align: left;\n",
       "    }\n",
       "\n",
       "    .dataframe tbody tr th {\n",
       "        vertical-align: top;\n",
       "    }\n",
       "</style>\n",
       "<table border=\"1\" class=\"dataframe\">\n",
       "  <thead>\n",
       "    <tr style=\"text-align: right;\">\n",
       "      <th></th>\n",
       "      <th>A1</th>\n",
       "      <th>A2</th>\n",
       "      <th>A3</th>\n",
       "    </tr>\n",
       "  </thead>\n",
       "  <tbody>\n",
       "    <tr>\n",
       "      <th>0</th>\n",
       "      <td>1073</td>\n",
       "      <td>1107</td>\n",
       "      <td>1093</td>\n",
       "    </tr>\n",
       "    <tr>\n",
       "      <th>1</th>\n",
       "      <td>1009</td>\n",
       "      <td>1092</td>\n",
       "      <td>1029</td>\n",
       "    </tr>\n",
       "    <tr>\n",
       "      <th>2</th>\n",
       "      <td>1060</td>\n",
       "      <td>990</td>\n",
       "      <td>1080</td>\n",
       "    </tr>\n",
       "    <tr>\n",
       "      <th>3</th>\n",
       "      <td>1001</td>\n",
       "      <td>1109</td>\n",
       "      <td>1021</td>\n",
       "    </tr>\n",
       "    <tr>\n",
       "      <th>4</th>\n",
       "      <td>1002</td>\n",
       "      <td>1090</td>\n",
       "      <td>1022</td>\n",
       "    </tr>\n",
       "    <tr>\n",
       "      <th>5</th>\n",
       "      <td>1012</td>\n",
       "      <td>1074</td>\n",
       "      <td>1032</td>\n",
       "    </tr>\n",
       "    <tr>\n",
       "      <th>6</th>\n",
       "      <td>1009</td>\n",
       "      <td>1122</td>\n",
       "      <td>1029</td>\n",
       "    </tr>\n",
       "    <tr>\n",
       "      <th>7</th>\n",
       "      <td>1028</td>\n",
       "      <td>1001</td>\n",
       "      <td>1048</td>\n",
       "    </tr>\n",
       "  </tbody>\n",
       "</table>\n",
       "</div>"
      ],
      "text/plain": [
       "     A1    A2    A3\n",
       "0  1073  1107  1093\n",
       "1  1009  1092  1029\n",
       "2  1060   990  1080\n",
       "3  1001  1109  1021\n",
       "4  1002  1090  1022\n",
       "5  1012  1074  1032\n",
       "6  1009  1122  1029\n",
       "7  1028  1001  1048"
      ]
     },
     "execution_count": 61,
     "metadata": {},
     "output_type": "execute_result"
    }
   ],
   "source": [
    "data"
   ]
  },
  {
   "cell_type": "markdown",
   "metadata": {},
   "source": [
    "#### 1. Anova analysis\n",
    "\n",
    "#### Part 1: Test whether the three groups have the same mean, ANOVA analysis\n",
    "\n",
    "The ANOVA model is (1) yij=mu+ai+eij, (2)sum(i,n)ai=0 (3)eij is normal distribution with mean 0 and variance sigma2\n",
    "\n",
    "The null hypothesis is that each receipe has the same effect\n",
    "\n",
    "H0: mu1=mu2=mu3\n",
    "\n",
    "H1: not all mu the same\n",
    "\n",
    "The test statistics is F=MSA/MSE~F(fA,fe)\n",
    "\n",
    "The rejection region is W={F>=F(1-a)(fa,fe)}\n"
   ]
  },
  {
   "cell_type": "code",
   "execution_count": 62,
   "metadata": {
    "collapsed": false
   },
   "outputs": [],
   "source": [
    "n=data.size\n",
    "m1=m2=m3=data.shape[0]\n",
    "mu=(data[\"A1\"].mean()+data[\"A2\"].mean()+data[\"A3\"].mean())/3\n",
    "(mu1,mu2, mu3)=(data[\"A1\"].mean(), data[\"A2\"].mean(), data[\"A3\"].mean())"
   ]
  },
  {
   "cell_type": "code",
   "execution_count": 63,
   "metadata": {
    "collapsed": false
   },
   "outputs": [],
   "source": [
    "# Total sum of squares\n",
    "SST=np.sum(np.square((data-mu)[\"A1\"]).sum()+np.square((data-mu)[\"A2\"]).sum()+np.square((data-mu)[\"A3\"]).sum())\n",
    "ft=n-1"
   ]
  },
  {
   "cell_type": "code",
   "execution_count": 64,
   "metadata": {
    "collapsed": false
   },
   "outputs": [],
   "source": [
    "# Regression sum of squares\n",
    "r=data.shape[1]\n",
    "fa=r-1\n",
    "SSA=m1*np.square(mu1-mu)+m2*np.square(mu2-mu)+m3*np.square(mu3-mu)\n",
    "MSA=SSA/fa"
   ]
  },
  {
   "cell_type": "code",
   "execution_count": 65,
   "metadata": {
    "collapsed": false
   },
   "outputs": [],
   "source": [
    "# Error sum of squares\n",
    "fe=n-r\n",
    "SSE=SST-SSA\n",
    "MSE=SSE/fe"
   ]
  },
  {
   "cell_type": "code",
   "execution_count": 66,
   "metadata": {
    "collapsed": false
   },
   "outputs": [
    {
     "name": "stdout",
     "output_type": "stream",
     "text": [
      "37875.9583333 9660.08333333 28215.875 4830.04166667 1343.61309524\n",
      "3.59481586164\n",
      "0.0454322109199\n"
     ]
    }
   ],
   "source": [
    "# F statistics\n",
    "print(SST, SSA, SSE, MSA, MSE)\n",
    "F=MSA/MSE\n",
    "print(F)\n",
    "p=stats.f.sf(F, fa, fe)\n",
    "print(p)"
   ]
  },
  {
   "cell_type": "code",
   "execution_count": 67,
   "metadata": {
    "collapsed": false
   },
   "outputs": [
    {
     "name": "stdout",
     "output_type": "stream",
     "text": [
      "The F-statistic is:  3.59481586164  >  3.46680011154 reject the null hypothesis that the mean of each group is the same\n"
     ]
    }
   ],
   "source": [
    "# ppf(q, dfn, dfd, loc=0, scale=1) percentile, inverse of cdf\n",
    "if F>stats.f.ppf(0.95,fa,fe):\n",
    "    print(\"The F-statistic is: \", F, \" > \",stats.f.ppf(0.95,fa,fe), \"reject the null hypothesis that the mean of each group is the same\" )\n",
    "else:\n",
    "    print(\"The F-statistic is: \",F, \" < \",stats.f.ppf(0.95,fa,fe), \"could not reject the null hypothesis the three groups are equal\" )"
   ]
  },
  {
   "cell_type": "markdown",
   "metadata": {},
   "source": [
    "#### Part 2 Parameter estimate\n",
    "The group effect ai=mui-mu\n",
    "\n",
    "The unbiased estimate of sigma2 is MSE"
   ]
  },
  {
   "cell_type": "code",
   "execution_count": 68,
   "metadata": {
    "collapsed": false
   },
   "outputs": [
    {
     "name": "stdout",
     "output_type": "stream",
     "text": [
      "The estimate of sigma2 is:  1343.61309524\n"
     ]
    }
   ],
   "source": [
    "a1,a2,a3=mu1-mu,mu2-mu,mu3-mu\n",
    "sigma2=MSE\n",
    "print(\"The estimate of sigma2 is: \", sigma2)"
   ]
  },
  {
   "cell_type": "markdown",
   "metadata": {},
   "source": [
    "#### Part 3 Confidence interval for three group mean yi.\n",
    "sqrt(m)(yi.-mui)/sqrt(Se/fe)~t(fe)\n",
    "\n",
    "So the 1-a confidence interval is\n",
    "\n",
    "[yi.+-sigma>t(fe)/sqrt(m)]"
   ]
  },
  {
   "cell_type": "code",
   "execution_count": 69,
   "metadata": {
    "collapsed": true
   },
   "outputs": [],
   "source": [
    "# confidence interval for mu1 is\n",
    "(mu1L,mu1U)=(mu1-np.sqrt(MSE)*stats.t.ppf(0.975, fe)/np.sqrt(m1),mu1+np.sqrt(MSE)*stats.t.ppf(0.975, fe)/np.sqrt(m1))\n",
    "(mu2L,mu2U)=(mu2-np.sqrt(MSE)*stats.t.ppf(0.975, fe)/np.sqrt(m2),mu2+np.sqrt(MSE)*stats.t.ppf(0.975, fe)/np.sqrt(m2))\n",
    "(mu3L,mu3U)=(mu3-np.sqrt(MSE)*stats.t.ppf(0.975, fe)/np.sqrt(m3),mu3+np.sqrt(MSE)*stats.t.ppf(0.975, fe)/np.sqrt(m3))"
   ]
  },
  {
   "cell_type": "code",
   "execution_count": 70,
   "metadata": {
    "collapsed": false
   },
   "outputs": [
    {
     "name": "stdout",
     "output_type": "stream",
     "text": [
      "Point estmator is 1024.25 , 95% CI for mu1 is:  (997.29900394339666, 1051.2009960566033)\n",
      "Point estmate is 1073.125 , 95% CI for mu2 is:  (1046.1740039433967, 1100.0759960566033)\n",
      "Point estimate is 1044.25 , 95% CI for mu3 is:  (1017.2990039433967, 1071.2009960566033)\n"
     ]
    }
   ],
   "source": [
    "print(\"Point estmator is\", mu1, \", 95% CI for mu1 is: \", (mu1L, mu1U))\n",
    "print(\"Point estmate is\", mu2, \", 95% CI for mu2 is: \", (mu2L, mu2U))\n",
    "print(\"Point estimate is\", mu3,  \", 95% CI for mu3 is: \", (mu3L, mu3U))"
   ]
  },
  {
   "cell_type": "markdown",
   "metadata": {},
   "source": [
    "#### Part 4 Multiple comparison"
   ]
  },
  {
   "cell_type": "code",
   "execution_count": 72,
   "metadata": {
    "collapsed": false
   },
   "outputs": [
    {
     "name": "stdout",
     "output_type": "stream",
     "text": [
      "-86.9894641427 -10.7605358573\n"
     ]
    }
   ],
   "source": [
    "# 95% CI for mu1-mu2\n",
    "print(mu1-mu2-stats.t.ppf(0.975, fe)*np.sqrt(MSE)*np.sqrt((1/m1+1/m2)), mu1-mu2+stats.t.ppf(0.975, fe)*np.sqrt(MSE)*np.sqrt((1/m1+1/m2)))"
   ]
  },
  {
   "cell_type": "code",
   "execution_count": 73,
   "metadata": {
    "collapsed": false
   },
   "outputs": [
    {
     "name": "stdout",
     "output_type": "stream",
     "text": [
      "-58.1144641427 18.1144641427\n"
     ]
    }
   ],
   "source": [
    "# 95% CI for mu1-mu3\n",
    "print(mu1-mu3-stats.t.ppf(0.975, fe)*np.sqrt(MSE)*np.sqrt((1/m1+1/m3)), mu1-mu3+stats.t.ppf(0.975, fe)*np.sqrt(MSE)*np.sqrt((1/m1+1/m3)))"
   ]
  },
  {
   "cell_type": "markdown",
   "metadata": {
    "collapsed": false
   },
   "source": [
    "#### 8.1.4 Unbalanced desgin, each level has different number of observations"
   ]
  },
  {
   "cell_type": "code",
   "execution_count": 4,
   "metadata": {
    "collapsed": false
   },
   "outputs": [],
   "source": [
    "a1=np.array([12,18])\n",
    "a2=np.array([14,12,13])\n",
    "a3=np.array([19,17,21])\n",
    "a4=np.array([24,30])"
   ]
  },
  {
   "cell_type": "code",
   "execution_count": 8,
   "metadata": {
    "collapsed": false
   },
   "outputs": [],
   "source": [
    "m1,m2,m3,m4=a1.size, a2.size,a3.size,a4.size\n",
    "n=m1+m2+m3+m4\n",
    "r=4"
   ]
  },
  {
   "cell_type": "code",
   "execution_count": 40,
   "metadata": {
    "collapsed": false
   },
   "outputs": [],
   "source": [
    "mu=np.sum([a1.sum(), a2.sum(), a3.sum(), a4.sum()])/n\n",
    "mu1, mu2,mu3,mu4=a1.mean(), a2.mean(), a3.mean(), a4.mean()"
   ]
  },
  {
   "cell_type": "code",
   "execution_count": 41,
   "metadata": {
    "collapsed": false
   },
   "outputs": [],
   "source": [
    "SST=np.sum([(np.square(a1-mu)).sum(), (np.square(a2-mu)).sum(), (np.square(a3-mu)).sum(), (np.square(a4-mu)).sum()])\n",
    "ft=n-1"
   ]
  },
  {
   "cell_type": "code",
   "execution_count": 42,
   "metadata": {
    "collapsed": false
   },
   "outputs": [],
   "source": [
    "SSA=np.sum([m1*(mu1-mu)**2, m2*(mu2-mu)**2, m3*(mu3-mu)**2, m4*(mu4-mu)**2])\n",
    "fa=r-1\n",
    "MSA=SSA/fa"
   ]
  },
  {
   "cell_type": "code",
   "execution_count": 47,
   "metadata": {
    "collapsed": true
   },
   "outputs": [],
   "source": [
    "SSE=SST-SSA\n",
    "fe=n-r\n",
    "MSE=SSE/fe"
   ]
  },
  {
   "cell_type": "code",
   "execution_count": 48,
   "metadata": {
    "collapsed": true
   },
   "outputs": [],
   "source": [
    "F=MSA/MSE"
   ]
  },
  {
   "cell_type": "code",
   "execution_count": 49,
   "metadata": {
    "collapsed": false
   },
   "outputs": [
    {
     "name": "stdout",
     "output_type": "stream",
     "text": [
      "SST:  304.0\n",
      "SSA:  258.0 fa:  3\n",
      "SSE:  46.0 fe:  6\n"
     ]
    }
   ],
   "source": [
    "print(\"SST: \", SST)\n",
    "print(\"SSA: \", SSA, \"fa: \", fa)\n",
    "print(\"SSE: \", SSE, \"fe: \", fe)"
   ]
  },
  {
   "cell_type": "code",
   "execution_count": 51,
   "metadata": {
    "collapsed": false
   },
   "outputs": [
    {
     "name": "stdout",
     "output_type": "stream",
     "text": [
      "F:  11.2173913043  >  9.77953824092  : reject\n"
     ]
    }
   ],
   "source": [
    "if F>stats.f.sf(0.99,fa,fe):\n",
    "    print(\"F: \", F, \" > \", stats.f.ppf(0.99,fa,fe), \" : reject\" )\n",
    "else:\n",
    "    print(\"F: \", F, \" < \", stats.f.ppf(0.99,fa,fe), \" : could not reject\" )"
   ]
  },
  {
   "cell_type": "markdown",
   "metadata": {},
   "source": [
    "##### Parameter estimate"
   ]
  },
  {
   "cell_type": "code",
   "execution_count": 52,
   "metadata": {
    "collapsed": false
   },
   "outputs": [
    {
     "name": "stdout",
     "output_type": "stream",
     "text": [
      "mu1: 15.0\n",
      "mu2:  13.0\n",
      "mu3:  19.0\n",
      "mu4:  27.0\n"
     ]
    }
   ],
   "source": [
    "print(\"mu1:\", mu1)\n",
    "print(\"mu2: \", mu2)\n",
    "print(\"mu3: \", mu3)\n",
    "print(\"mu4: \", mu4)"
   ]
  },
  {
   "cell_type": "code",
   "execution_count": 53,
   "metadata": {
    "collapsed": false
   },
   "outputs": [
    {
     "name": "stdout",
     "output_type": "stream",
     "text": [
      "MSE:  7.66666666667\n"
     ]
    }
   ],
   "source": [
    "#the unbiased estimate of mu is MSE\n",
    "print(\"MSE: \", MSE)"
   ]
  },
  {
   "cell_type": "code",
   "execution_count": 57,
   "metadata": {
    "collapsed": false
   },
   "outputs": [
    {
     "name": "stdout",
     "output_type": "stream",
     "text": [
      "15.0883410069 22.9116589931\n"
     ]
    }
   ],
   "source": [
    "# 95% CI for mu3 is\n",
    "print(mu3-stats.t.ppf(0.975,fe)*np.sqrt(MSE)/np.sqrt(m3), mu3+stats.t.ppf(0.975,fe)*np.sqrt(MSE)/np.sqrt(m3))"
   ]
  },
  {
   "cell_type": "code",
   "execution_count": 58,
   "metadata": {
    "collapsed": false
   },
   "outputs": [
    {
     "name": "stdout",
     "output_type": "stream",
     "text": [
      "22.2092157096 31.7907842904\n"
     ]
    }
   ],
   "source": [
    "# 95% CI for mu4\n",
    "print(mu4-stats.t.ppf(0.975,fe)*np.sqrt(MSE)/np.sqrt(m4), mu4+stats.t.ppf(0.975,fe)*np.sqrt(MSE)/np.sqrt(m4))"
   ]
  },
  {
   "cell_type": "markdown",
   "metadata": {},
   "source": [
    "### 8.3 Equality of variance for more than three groups\n",
    "\n",
    "The null hypothesis is H0: sigma12=sigma22=...sigmar2\n",
    "\n",
    "1. Hartley test, when mi are equal\n",
    "\n",
    "2. Bartlett test, when each mi>5\n",
    "\n",
    "3. Modified Bartlett test"
   ]
  },
  {
   "cell_type": "code",
   "execution_count": 75,
   "metadata": {
    "collapsed": true
   },
   "outputs": [],
   "source": [
    "# Hartley test, when m1=m2=...=mr\n",
    "# test statistics H=max(s1^2,....,sr^2)/min(s1*2,...,sr*2)\n",
    "# Reject region is W={H>H1-alpha(r,f)}, f=m-1"
   ]
  },
  {
   "cell_type": "code",
   "execution_count": 76,
   "metadata": {
    "collapsed": true
   },
   "outputs": [],
   "source": [
    "a1=np.array([43.9, 39, 46.7,43.8, 44.2, 47.7, 43.6, 38.9, 43.6,40])\n",
    "a2=np.array([89.8, 87.1, 92.7, 90.6, 87.7, 92.4, 86.1, 88.1, 90.8, 89.1])\n",
    "a3=np.array([68.4, 69.3, 68.5, 66.4, 70, 68.1, 70.6,65.2, 63.8, 69.2])\n",
    "a4=np.array([36.2, 45.2, 40.7, 40.5, 39.3, 40.3, 43.2, 38.7, 40.9,39.7])"
   ]
  },
  {
   "cell_type": "code",
   "execution_count": 80,
   "metadata": {
    "collapsed": false
   },
   "outputs": [],
   "source": [
    "s1_2=a1.std(ddof=1)\n",
    "s2_2=a2.std(ddof=2)\n",
    "s3_2=a3.std(ddof=3)\n",
    "s4_2=a4.std(ddof=4)"
   ]
  },
  {
   "cell_type": "code",
   "execution_count": 82,
   "metadata": {
    "collapsed": false
   },
   "outputs": [
    {
     "data": {
      "text/plain": [
       "1.2751273184818841"
      ]
     },
     "execution_count": 82,
     "metadata": {},
     "output_type": "execute_result"
    }
   ],
   "source": [
    "H=np.max([s1_2,s2_2,s3_2,s4_2])/np.min([s1_2,s2_2,s3_2,s4_2])\n",
    "H"
   ]
  },
  {
   "cell_type": "code",
   "execution_count": null,
   "metadata": {
    "collapsed": true
   },
   "outputs": [],
   "source": [
    "# Bartlett test\n",
    "# GME<=MSE, gme=mse when the sample variance for each group is the same\n",
    "# rejection region is W={ln(MSE/GME)>d}"
   ]
  },
  {
   "cell_type": "code",
   "execution_count": 84,
   "metadata": {
    "collapsed": false
   },
   "outputs": [
    {
     "name": "stdout",
     "output_type": "stream",
     "text": [
      "1.19895657746 0.753254578358\n"
     ]
    }
   ],
   "source": [
    "(T,p_value)=stats.bartlett(a1,a2,a3,a4)\n",
    "print(T, p_value)"
   ]
  },
  {
   "cell_type": "markdown",
   "metadata": {},
   "source": [
    "### 8.4 Simple linear regression\n",
    "\n",
    "Model is yi=a+b*xi+ei, ei~N(0.sigma2)\n",
    "LSE estimate of a and b is, b^=sxy/sxx, a^=y_-x_*b^\n"
   ]
  },
  {
   "cell_type": "code",
   "execution_count": 87,
   "metadata": {
    "collapsed": true
   },
   "outputs": [],
   "source": [
    "data=pd.DataFrame([[0.1,42],[0.11,43],[0.12,45],[0.13,45],[0.14,45],[0.15,47.5],[0.16,49],[0.17,53],[0.18,50],[0.2,55],[0.21,55],[0.23,60]],columns=['x','y'] )"
   ]
  },
  {
   "cell_type": "code",
   "execution_count": 108,
   "metadata": {
    "collapsed": false
   },
   "outputs": [],
   "source": [
    "n=data.shape[0]"
   ]
  },
  {
   "cell_type": "code",
   "execution_count": 109,
   "metadata": {
    "collapsed": false
   },
   "outputs": [
    {
     "name": "stdout",
     "output_type": "stream",
     "text": [
      "the linear regression function is y=28.082585278276486f+132.89946140035903f*x\n"
     ]
    }
   ],
   "source": [
    "# parameter estimate of a and b\n",
    "# b=sxy/sxx\n",
    "meanx=data['x'].mean()\n",
    "meany=data['y'].mean()\n",
    "sxy=np.sum((data['x']-meanx)*(data['y']-meany))\n",
    "sxx=np.sum((data['x']-meanx)**2)\n",
    "b=sxy/sxx\n",
    "a=meany-meanx*b\n",
    "print(\"the linear regression function is y={}f+{}f*x\".format(a,b))"
   ]
  },
  {
   "cell_type": "markdown",
   "metadata": {},
   "source": [
    "#### Significance test of the regression model\n",
    "\n",
    "1. F test=MSR/MSE\n",
    "\n",
    "2. tttest\n",
    "\n",
    "3. r test"
   ]
  },
  {
   "cell_type": "code",
   "execution_count": 115,
   "metadata": {
    "collapsed": true
   },
   "outputs": [],
   "source": [
    "# regression predicted value\n",
    "data['yp']=a+b*data['x']\n",
    "SST=np.sum((data['y']-meany)**2)\n",
    "SSE=np.sum((data['y']-data['yp'])**2)\n",
    "fe=n-2\n",
    "MSE=SSE/fe\n",
    "SSR=SST-SSE\n",
    "MSR=SSR\n",
    "F=MSR/MSE"
   ]
  },
  {
   "cell_type": "code",
   "execution_count": 116,
   "metadata": {
    "collapsed": false
   },
   "outputs": [
    {
     "name": "stdout",
     "output_type": "stream",
     "text": [
      "SST 345.0625  SSR: 327.929421005386 SSE:  17.133078994613964 MSE:  1.7133078994613964\n"
     ]
    }
   ],
   "source": [
    "print(\"SST\", SST, \" SSR:\", SSR, \"SSE: \", SSE, \"MSE: \", MSE)"
   ]
  },
  {
   "cell_type": "code",
   "execution_count": 117,
   "metadata": {
    "collapsed": false
   },
   "outputs": [
    {
     "name": "stdout",
     "output_type": "stream",
     "text": [
      "F statisitcs= 191.40133604034364  >  10.0442892734 reject\n"
     ]
    }
   ],
   "source": [
    "if F>stats.f.ppf(0.95,1,fe):\n",
    "    print(\"F statisitcs=\", F, \" > \", stats.f.ppf(0.99,1,fe), \"reject\")\n",
    "else:\n",
    "    print(\"F statisitcs=\", F, \" <= \", stats.f.ppf(0.99,1,fe), \"could not reject\")"
   ]
  },
  {
   "cell_type": "code",
   "execution_count": 121,
   "metadata": {
    "collapsed": false
   },
   "outputs": [
    {
     "name": "stdout",
     "output_type": "stream",
     "text": [
      "t statistics:  13.83478717\n",
      "3.16927266718\n"
     ]
    }
   ],
   "source": [
    "# t-test\n",
    "t=b/np.sqrt(MSE/sxx)\n",
    "print(\"t statistics: \", t)\n",
    "print(stats.t.ppf(0.995, fe))"
   ]
  },
  {
   "cell_type": "code",
   "execution_count": 125,
   "metadata": {
    "collapsed": false
   },
   "outputs": [
    {
     "name": "stdout",
     "output_type": "stream",
     "text": [
      "y0 is 49.34649910233394\n"
     ]
    }
   ],
   "source": [
    "# The estimation interval of E(y0) and the prediction interval of y0\n",
    "# E(y0)~N(a+b*y0, (1/n+(x0-meanx)**2/sxx)sigma2)\n",
    "x0=0.15\n",
    "y0=a+b*0.16\n",
    "print(\"y0 is\", y0)\n",
    "s=(1/n+((x0-meanx)**2)/sxx)*MSE"
   ]
  },
  {
   "cell_type": "code",
   "execution_count": 126,
   "metadata": {
    "collapsed": false
   },
   "outputs": [
    {
     "name": "stdout",
     "output_type": "stream",
     "text": [
      "48.4858953569 50.2071028477\n"
     ]
    }
   ],
   "source": [
    "print(y0-stats.t.ppf(0.975,fe)*np.sqrt(s),y0+stats.t.ppf(0.975,fe)*np.sqrt(s))"
   ]
  },
  {
   "cell_type": "code",
   "execution_count": 127,
   "metadata": {
    "collapsed": false
   },
   "outputs": [
    {
     "name": "stdout",
     "output_type": "stream",
     "text": [
      "prediction interval for x0=0.16 is \n",
      "46.305688042 52.3873101627\n",
      "unbiased estimate for sigma2 is:  1.7133078994613964\n"
     ]
    }
   ],
   "source": [
    "s1=s=(1+1/n+((x0-meanx)**2)/sxx)*MSE\n",
    "print(\"prediction interval for x0=0.16 is \")\n",
    "print(y0-stats.t.ppf(0.975,fe)*np.sqrt(s1),y0+stats.t.ppf(0.975,fe)*np.sqrt(s1))\n",
    "print(\"unbiased estimate for sigma2 is: \", MSE)"
   ]
  },
  {
   "cell_type": "markdown",
   "metadata": {},
   "source": [
    "#### 8.5 Non-linear regression\n"
   ]
  },
  {
   "cell_type": "code",
   "execution_count": 130,
   "metadata": {
    "collapsed": true
   },
   "outputs": [],
   "source": [
    "data=pd.DataFrame([[2,106.42],[3,108.2],[4,109.58],[5,109.5],[7,110],[8,109.93],[10,110.49],[11,110.59],[14,110.6],[15,110.9],[16,110.76],[18,111],[19,111.2]], columns=['x','y'])"
   ]
  },
  {
   "cell_type": "code",
   "execution_count": 137,
   "metadata": {
    "collapsed": false
   },
   "outputs": [
    {
     "data": {
      "text/plain": [
       "<matplotlib.text.Text at 0xa4bce80>"
      ]
     },
     "execution_count": 137,
     "metadata": {},
     "output_type": "execute_result"
    },
    {
     "data": {
      "image/png": "[encoded data removed]",
      "text/plain": [
       "<matplotlib.figure.Figure at 0xa389d68>"
      ]
     },
     "metadata": {},
     "output_type": "display_data"
    }
   ],
   "source": [
    "# scatter plot\n",
    "plt.scatter(data['x'], data['y'])\n",
    "plt.xlabel(\"x\")\n",
    "plt.ylabel('y')\n"
   ]
  },
  {
   "cell_type": "code",
   "execution_count": 150,
   "metadata": {
    "collapsed": false
   },
   "outputs": [
    {
     "name": "stdout",
     "output_type": "stream",
     "text": [
      "R2:  0.9729237495756402\n",
      "0.008966629680572831f+0.0008291743633564367f*x\n"
     ]
    }
   ],
   "source": [
    "# transform 1: 1/y=a+b/x\n",
    "data['v']=1/data['y']\n",
    "data['u']=1/data['x']\n",
    "meanu=data['u'].mean()\n",
    "meanv=data['v'].mean()\n",
    "meany=data['y'].mean()\n",
    "sxy=np.sum((data['u']-meanu)*(data['v']-meanv))\n",
    "sxx=np.sum((data['u']-meanu)**2)\n",
    "b=sxy/sxx\n",
    "a=meanv-meanu*b\n",
    "data['pred1']=data['x']/(a*data['x']+b)\n",
    "SST=np.sum((data['y']-meany)**2)\n",
    "SSE=np.sum((data['y']-data['pred1'])**2)\n",
    "SSR=SST-SSE\n",
    "R2=SSR/SST\n",
    "print(\"R2: \", R2)\n",
    "print(\"{}f+{}f*x\".format(a,b))"
   ]
  },
  {
   "cell_type": "code",
   "execution_count": 153,
   "metadata": {
    "collapsed": false
   },
   "outputs": [
    {
     "name": "stdout",
     "output_type": "stream",
     "text": [
      "R2:  0.8773150048965607\n",
      "106.31467407516661f+1.7139772479275455f*x\n"
     ]
    }
   ],
   "source": [
    "# transform 1: y=a+b*ln(x)\n",
    "data['v']=data['y']\n",
    "data['u']=np.log(data['x'])\n",
    "meanu=data['u'].mean()\n",
    "meanv=data['v'].mean()\n",
    "meany=data['y'].mean()\n",
    "sxy=np.sum((data['u']-meanu)*(data['v']-meanv))\n",
    "sxx=np.sum((data['u']-meanu)**2)\n",
    "b=sxy/sxx\n",
    "a=meanv-meanu*b\n",
    "data['pred2']=a+b*data['u']\n",
    "SST=np.sum((data['y']-meany)**2)\n",
    "SSE=np.sum((data['y']-data['pred2'])**2)\n",
    "SSR=SST-SSE\n",
    "R2=SSR/SST\n",
    "print(\"R2: \", R2)\n",
    "print(\"{}f+{}f*x\".format(a,b))"
   ]
  },
  {
   "cell_type": "markdown",
   "metadata": {},
   "source": [
    "## Chp7 Hypothesis testing"
   ]
  },
  {
   "cell_type": "code",
   "execution_count": 156,
   "metadata": {
    "collapsed": false
   },
   "outputs": [
    {
     "name": "stdout",
     "output_type": "stream",
     "text": [
      "-2.79508497187\n",
      "reject: 2.7764451052\n"
     ]
    }
   ],
   "source": [
    "# example 7.2.2\n",
    "x=np.array([239.7, 239.6, 239, 240,239.2])\n",
    "n=x.shape[0]\n",
    "meanx=x.mean()\n",
    "s=np.std(x,ddof=1)\n",
    "mu0=240\n",
    "t=(meanx-mu0)*np.sqrt(n)/s\n",
    "print(t)\n",
    "if np.abs(t)>stats.t.ppf(0.975,n-1):\n",
    "    print(\"reject:\", stats.t.ppf(0.975,n-1))\n",
    "else:\n",
    "    print(\"accept:\", stats.t.ppf(0.975,n-1)) "
   ]
  },
  {
   "cell_type": "code",
   "execution_count": 157,
   "metadata": {
    "collapsed": false
   },
   "outputs": [
    {
     "name": "stdout",
     "output_type": "stream",
     "text": [
      "t statistics is:  2.4234304245  >  1.75305035569  reject\n"
     ]
    }
   ],
   "source": [
    "# eg 7.2.3\n",
    "a1=np.array([76.43, 76.21, 73.58, 69.69, 65.29, 70.83, 82.75,72.34])\n",
    "a2=np.array([73.66, 64.27, 69.34, 71.37, 69.77, 68.12, 67.27, 68.07, 62.61])\n",
    "m=a1.size\n",
    "n=a2.size\n",
    "mu1=a1.mean()\n",
    "mu2=a2.mean()\n",
    "sw=np.sqrt((np.sum((a1-mu1)**2)+np.sum((a2-mu2)**2))/(m+n-2))\n",
    "t=(mu1-mu2)/(sw*np.sqrt(1/m+1/n))\n",
    "if t>stats.t.ppf(0.95, m+n-2):\n",
    "    print(\"t statistics is: \", t, \" > \", stats.t.ppf(0.95, m+n-2), \" reject\")\n",
    "else:\n",
    "    print(\"t statistics is: \", t, \" <= \", stats.t.ppf(0.95, m+n-2), \" could not reject\")"
   ]
  },
  {
   "cell_type": "code",
   "execution_count": 174,
   "metadata": {
    "collapsed": false
   },
   "outputs": [
    {
     "name": "stdout",
     "output_type": "stream",
     "text": [
      "37.50000000000001\n",
      "36.4150285018\n"
     ]
    }
   ],
   "source": [
    "# 7.2.4 chi-square test for a single variance\n",
    "n=25\n",
    "sigma20=0.016\n",
    "s2=0.025\n",
    "chisq=(n-1)*s2/sigma20\n",
    "print(chisq)\n",
    "print(stats.chi2.ppf(0.95, n-1))"
   ]
  },
  {
   "cell_type": "code",
   "execution_count": 181,
   "metadata": {
    "collapsed": false
   },
   "outputs": [
    {
     "name": "stdout",
     "output_type": "stream",
     "text": [
      "0.908690869087\n",
      "The rejection region is  0.175578120301 5.11859661338\n"
     ]
    }
   ],
   "source": [
    "# F-test for two sample variance\n",
    "a1=np.array([16.2, 16.4, 15.8, 15.5, 16.7, 15.6, 15.8])\n",
    "a2=np.array([15.9, 16, 16.4, 16.1, 16.5, 15.8, 15.7, 15])\n",
    "m=a1.size\n",
    "n=a2.size\n",
    "s12=np.var(a1,ddof=1)\n",
    "s22=np.var(a2, ddof=1)\n",
    "F=s12/s22\n",
    "print(F)\n",
    "print(\"The rejection region is \", stats.f.ppf(0.025, m-1, n-1), stats.f.ppf(0.975, m-1,n-1))"
   ]
  },
  {
   "cell_type": "markdown",
   "metadata": {},
   "source": [
    "### 7.3 Hypothesis testing for the parameter theta of the exponential distribution\n",
    "\n",
    "Suppose x1,...,xn~Exp(1/theta), theta is the mean\n",
    "\n",
    "nx_=sum(xi)~Ga(n,1/theta0)\n",
    "\n",
    "chisq=2*n*x_/theta0~chisq(2n)"
   ]
  },
  {
   "cell_type": "code",
   "execution_count": 196,
   "metadata": {
    "collapsed": false
   },
   "outputs": [
    {
     "name": "stdout",
     "output_type": "stream",
     "text": [
      "7.43766666667\n",
      "3.94029913612\n"
     ]
    }
   ],
   "source": [
    "# H0: mu>=6000 vs H1: MU<6000\n",
    "a=np.array([395, 4094, 119, 11572, 6133])\n",
    "n=a.size\n",
    "CHISQ=2*n*a.mean()/6000\n",
    "print(CHISQ)\n",
    "print(stats.chi2.ppf(0.05, 2*n))"
   ]
  },
  {
   "cell_type": "code",
   "execution_count": 197,
   "metadata": {
    "collapsed": false
   },
   "outputs": [
    {
     "data": {
      "text/plain": [
       "0.017864420562816542"
      ]
     },
     "execution_count": 197,
     "metadata": {},
     "output_type": "execute_result"
    }
   ],
   "source": [
    "stats.norm.sf(2.1)"
   ]
  },
  {
   "cell_type": "markdown",
   "metadata": {},
   "source": [
    "### 7.4 Likelihood test\n",
    "sum(ni-npi)**2/npi~chisq(k-1)"
   ]
  },
  {
   "cell_type": "code",
   "execution_count": 216,
   "metadata": {
    "collapsed": false
   },
   "outputs": [
    {
     "name": "stdout",
     "output_type": "stream",
     "text": [
      "3.75\n",
      "11.0704976935\n"
     ]
    }
   ],
   "source": [
    "x=np.array([5,10,20,30,50,100])\n",
    "p=np.array([0.1,0.2,0.3,0.2,0.1,0.1])\n",
    "ob=np.array([2,6,6,3,3,0])\n",
    "expected=20*p\n",
    "chisq=np.sum((expected-ob)**2/expected)\n",
    "print(chisq)\n",
    "print(stats.chi2.ppf(0.95, 6-1))"
   ]
  },
  {
   "cell_type": "code",
   "execution_count": 218,
   "metadata": {
    "collapsed": false
   },
   "outputs": [
    {
     "data": {
      "text/plain": [
       "3.8696319018404908"
      ]
     },
     "execution_count": 218,
     "metadata": {},
     "output_type": "execute_result"
    }
   ],
   "source": [
    "# 7.4.2 The MLE of Poisson distribution is \n",
    "mu=(0*57+203+2*383+3*525+4*532+5*408+6*273+7*139+8*45+9*27+10*10+11*6)/2608\n",
    "mu"
   ]
  },
  {
   "cell_type": "code",
   "execution_count": 234,
   "metadata": {
    "collapsed": false
   },
   "outputs": [
    {
     "name": "stdout",
     "output_type": "stream",
     "text": [
      "14.0053276199\n",
      "18.3070380533\n"
     ]
    }
   ],
   "source": [
    "import math\n",
    "n=2608\n",
    "ni=np.array([57, 203, 383, 525, 532, 408, 273, 139, 45, 27,10,6])\n",
    "x=np.arange(12)\n",
    "pi=np.power(mu,x)*np.exp(-mu)/[math.factorial(i) for i in x]\n",
    "npi=n*pi\n",
    "chisq=np.sum((ni-npi)**2/npi)\n",
    "print(chisq)\n",
    "print(stats.chi2.ppf(0.95, ni.size-1-1))"
   ]
  },
  {
   "cell_type": "markdown",
   "metadata": {
    "collapsed": false
   },
   "source": [
    "## Chp1 Random events and probability"
   ]
  },
  {
   "cell_type": "code",
   "execution_count": 2,
   "metadata": {
    "collapsed": true
   },
   "outputs": [],
   "source": [
    "# A Python program to print all \n",
    "# permutations using library function\n",
    "from itertools import permutations"
   ]
  },
  {
   "cell_type": "code",
   "execution_count": 3,
   "metadata": {
    "collapsed": true
   },
   "outputs": [],
   "source": [
    "# Get all permutations of [1, 2, 3]\n",
    "perm = permutations([1, 2, 3])"
   ]
  },
  {
   "cell_type": "code",
   "execution_count": 4,
   "metadata": {
    "collapsed": false
   },
   "outputs": [
    {
     "name": "stdout",
     "output_type": "stream",
     "text": [
      "(1, 2, 3)\n",
      "(1, 3, 2)\n",
      "(2, 1, 3)\n",
      "(2, 3, 1)\n",
      "(3, 1, 2)\n",
      "(3, 2, 1)\n"
     ]
    }
   ],
   "source": [
    "# print the list permutations\n",
    "for i in list(perm):\n",
    "    print(i)"
   ]
  },
  {
   "cell_type": "code",
   "execution_count": 5,
   "metadata": {
    "collapsed": false
   },
   "outputs": [
    {
     "name": "stdout",
     "output_type": "stream",
     "text": [
      "(1, 2)\n",
      "(1, 3)\n",
      "(2, 1)\n",
      "(2, 3)\n",
      "(3, 1)\n",
      "(3, 2)\n"
     ]
    }
   ],
   "source": [
    "# get permutations of length 2\n",
    "perm=permutations([1,2,3],r=2)\n",
    "for i in list(perm):\n",
    "    print(i)"
   ]
  },
  {
   "cell_type": "code",
   "execution_count": 6,
   "metadata": {
    "collapsed": true
   },
   "outputs": [],
   "source": [
    "# A Python program to print all \n",
    "# combinations of given length\n",
    "from itertools import combinations"
   ]
  },
  {
   "cell_type": "code",
   "execution_count": 9,
   "metadata": {
    "collapsed": false
   },
   "outputs": [
    {
     "name": "stdout",
     "output_type": "stream",
     "text": [
      "(1, 2)\n",
      "(1, 3)\n",
      "(2, 3)\n"
     ]
    }
   ],
   "source": [
    "# return a list of tuples which contain the combinations\n",
    "comb=combinations([1,2,3],2)\n",
    "for i in list(comb):\n",
    "    print(i)"
   ]
  },
  {
   "cell_type": "code",
   "execution_count": 12,
   "metadata": {
    "collapsed": false
   },
   "outputs": [
    {
     "name": "stdout",
     "output_type": "stream",
     "text": [
      "(2, 1)\n",
      "(2, 4)\n",
      "(1, 4)\n"
     ]
    }
   ],
   "source": [
    "# Combinations are emitted in lexicographic sort order of input. \n",
    "# So, if the input list is sorted, the combination tuples will be produced in sorted order.\n",
    "comb=combinations([2,1,4],2)\n",
    "for i in comb:\n",
    "    print(i)"
   ]
  },
  {
   "cell_type": "code",
   "execution_count": 13,
   "metadata": {
    "collapsed": false
   },
   "outputs": [
    {
     "name": "stdout",
     "output_type": "stream",
     "text": [
      "(1, 1)\n",
      "(1, 3)\n",
      "(1, 3)\n"
     ]
    }
   ],
   "source": [
    "# elements are treated as unique based on their positions, not values\n",
    "comb=combinations([1,1,3],2)\n",
    "for i in list(comb):\n",
    "    print(i)"
   ]
  },
  {
   "cell_type": "code",
   "execution_count": 14,
   "metadata": {
    "collapsed": false
   },
   "outputs": [
    {
     "name": "stdout",
     "output_type": "stream",
     "text": [
      "(1, 1)\n",
      "(1, 2)\n",
      "(1, 3)\n",
      "(2, 2)\n",
      "(2, 3)\n",
      "(3, 3)\n"
     ]
    }
   ],
   "source": [
    "# If we want to make combination of same element to same element then we use combinations_with_replacement.\n",
    "from itertools import combinations_with_replacement\n",
    "comb=combinations_with_replacement([1,2,3],2)\n",
    "for i in list(comb):\n",
    "    print(i)"
   ]
  },
  {
   "cell_type": "markdown",
   "metadata": {},
   "source": [
    "### Generate random numbers\n",
    "\n",
    "1. numpy.random.sample(), return [0,1) variables\n",
    "\n",
    "2. numpy.random.choice(a, size=None, replace=True, p=None) generate a random sample from one-d array\n",
    "\n",
    "3. numpy.random.randint(low, high=None, size=None, dtype='l'), return an random integar from low(inclusive) to high(exclusive)\n",
    "\n",
    "4. numpy.random.shuffle(x) modify a sequence in place by shuffling its contents. only shuffle the array along the first axis. For an two-D array, shuffle the columns\n",
    "\n",
    "5. numpy.random.permutation(x) randomly permute a sequence"
   ]
  },
  {
   "cell_type": "code",
   "execution_count": 15,
   "metadata": {
    "collapsed": true
   },
   "outputs": [],
   "source": [
    "# numpy.random.sample()Return random floats in the half-open interval [0.0, 1.0).\n",
    "a=np.random.sample((2,3,4))"
   ]
  },
  {
   "cell_type": "code",
   "execution_count": 19,
   "metadata": {
    "collapsed": false
   },
   "outputs": [
    {
     "data": {
      "text/plain": [
       "array([[ 5.30243388,  5.72453464,  5.36975277,  5.41632911],\n",
       "       [ 6.3459371 ,  6.71156423,  6.22997128,  6.46970452],\n",
       "       [ 6.46625165,  5.61649912,  5.75861908,  5.6169927 ]])"
      ]
     },
     "execution_count": 19,
     "metadata": {},
     "output_type": "execute_result"
    }
   ],
   "source": [
    "#create uniform sample from [5,7)\n",
    "b=5+(7-5)*np.random.sample((3,4))\n",
    "b"
   ]
  },
  {
   "cell_type": "code",
   "execution_count": 24,
   "metadata": {
    "collapsed": false
   },
   "outputs": [
    {
     "data": {
      "text/plain": [
       "array([[3, 2, 2, 2, 4, 1, 4, 2],\n",
       "       [2, 1, 1, 2, 1, 2, 1, 2],\n",
       "       [1, 4, 4, 1, 4, 4, 2, 4],\n",
       "       [2, 2, 4, 3, 4, 4, 2, 4],\n",
       "       [1, 1, 4, 2, 2, 1, 2, 2]])"
      ]
     },
     "execution_count": 24,
     "metadata": {},
     "output_type": "execute_result"
    }
   ],
   "source": [
    "c=np.random.choice([1,2,3,4,5], size=(5,8), replace=True, p=[0.2,0.3,0.1,0.4,0])\n",
    "c"
   ]
  },
  {
   "cell_type": "code",
   "execution_count": 25,
   "metadata": {
    "collapsed": false
   },
   "outputs": [
    {
     "data": {
      "text/plain": [
       "array(['piglet', 'pooh', 'pooh', 'piglet', 'pooh'],\n",
       "      dtype='<U11')"
      ]
     },
     "execution_count": 25,
     "metadata": {},
     "output_type": "execute_result"
    }
   ],
   "source": [
    "aa_milne_arr = ['pooh', 'rabbit', 'piglet', 'Christopher']\n",
    "bb=np.random.choice(aa_milne_arr, size=5, p=[0.5,0.1,0.4,0])\n",
    "bb"
   ]
  },
  {
   "cell_type": "code",
   "execution_count": 26,
   "metadata": {
    "collapsed": false
   },
   "outputs": [
    {
     "data": {
      "text/plain": [
       "array([1, 1, 4, 3, 3, 1, 2, 2, 2, 3])"
      ]
     },
     "execution_count": 26,
     "metadata": {},
     "output_type": "execute_result"
    }
   ],
   "source": [
    "a=np.random.randint(1,5,size=10)\n",
    "a"
   ]
  },
  {
   "cell_type": "code",
   "execution_count": 29,
   "metadata": {
    "collapsed": false
   },
   "outputs": [
    {
     "data": {
      "text/plain": [
       "array([5, 3, 0, 7, 2, 6, 9, 1, 8, 4])"
      ]
     },
     "execution_count": 29,
     "metadata": {},
     "output_type": "execute_result"
    }
   ],
   "source": [
    "arr=np.arange(10)\n",
    "arr\n",
    "np.random.shuffle(arr)\n",
    "arr"
   ]
  },
  {
   "cell_type": "code",
   "execution_count": 30,
   "metadata": {
    "collapsed": false
   },
   "outputs": [
    {
     "data": {
      "text/plain": [
       "array([[0, 1, 2],\n",
       "       [3, 4, 5],\n",
       "       [6, 7, 8]])"
      ]
     },
     "execution_count": 30,
     "metadata": {},
     "output_type": "execute_result"
    }
   ],
   "source": [
    "arr=np.arange(9).reshape(3,3)\n",
    "arr"
   ]
  },
  {
   "cell_type": "code",
   "execution_count": 32,
   "metadata": {
    "collapsed": false
   },
   "outputs": [
    {
     "data": {
      "text/plain": [
       "array([[0, 1, 2],\n",
       "       [6, 7, 8],\n",
       "       [3, 4, 5]])"
      ]
     },
     "execution_count": 32,
     "metadata": {},
     "output_type": "execute_result"
    }
   ],
   "source": [
    "# shuffle the columns for two-D array\n",
    "np.random.shuffle(arr)\n",
    "arr"
   ]
  },
  {
   "cell_type": "code",
   "execution_count": 33,
   "metadata": {
    "collapsed": false
   },
   "outputs": [
    {
     "data": {
      "text/plain": [
       "array([4, 8, 1, 3, 2, 5, 9, 7, 6, 0])"
      ]
     },
     "execution_count": 33,
     "metadata": {},
     "output_type": "execute_result"
    }
   ],
   "source": [
    "np.random.permutation(10)"
   ]
  },
  {
   "cell_type": "code",
   "execution_count": 34,
   "metadata": {
    "collapsed": false
   },
   "outputs": [
    {
     "data": {
      "text/plain": [
       "array([12,  9, 15,  1,  4])"
      ]
     },
     "execution_count": 34,
     "metadata": {},
     "output_type": "execute_result"
    }
   ],
   "source": [
    "np.random.permutation([1, 4, 9, 12, 15])"
   ]
  },
  {
   "cell_type": "code",
   "execution_count": 38,
   "metadata": {
    "collapsed": false
   },
   "outputs": [
    {
     "data": {
      "text/plain": [
       "array([[0, 1, 2],\n",
       "       [3, 4, 5],\n",
       "       [6, 7, 8]])"
      ]
     },
     "execution_count": 38,
     "metadata": {},
     "output_type": "execute_result"
    }
   ],
   "source": [
    "# permutate the columns\n",
    "arr = np.arange(9).reshape((3, 3))\n",
    "arr"
   ]
  },
  {
   "cell_type": "code",
   "execution_count": 39,
   "metadata": {
    "collapsed": false
   },
   "outputs": [
    {
     "data": {
      "text/plain": [
       "array([[0, 1, 2],\n",
       "       [6, 7, 8],\n",
       "       [3, 4, 5]])"
      ]
     },
     "execution_count": 39,
     "metadata": {},
     "output_type": "execute_result"
    }
   ],
   "source": [
    "np.random.permutation(arr)"
   ]
  },
  {
   "cell_type": "code",
   "execution_count": 41,
   "metadata": {
    "collapsed": false
   },
   "outputs": [
    {
     "data": {
      "text/plain": [
       "20.25"
      ]
     },
     "execution_count": 41,
     "metadata": {},
     "output_type": "execute_result"
    }
   ],
   "source": [
    "135*0.15"
   ]
  },
  {
   "cell_type": "markdown",
   "metadata": {},
   "source": [
    "## scipy.stats statistical functions"
   ]
  },
  {
   "cell_type": "markdown",
   "metadata": {},
   "source": [
    "scipy.stats.chi2: a chi-squared continuous random variable. \n"
   ]
  },
  {
   "cell_type": "code",
   "execution_count": 44,
   "metadata": {
    "collapsed": false
   },
   "outputs": [
    {
     "data": {
      "text/plain": [
       "[<matplotlib.lines.Line2D at 0xa824828>]"
      ]
     },
     "execution_count": 44,
     "metadata": {},
     "output_type": "execute_result"
    },
    {
     "data": {
      "image/png": "[encoded data removed]",
      "text/plain": [
       "<matplotlib.figure.Figure at 0xa824240>"
      ]
     },
     "metadata": {},
     "output_type": "display_data"
    }
   ],
   "source": [
    "from scipy.stats import chi2\n",
    "import matplotlib.pyplot as plt\n",
    "fig, ax = plt.subplots(1, 1)\n",
    "df=55\n",
    "mean, var, skew, kurt=chi2.stats(df,moments='mvsk')\n",
    "x=np.linspace(chi2.ppf(0.01,df), chi2.ppf(0.99,df),100)\n",
    "y=chi2.pdf(x,df)\n",
    "ax.plot(x,y)"
   ]
  },
  {
   "cell_type": "code",
   "execution_count": 49,
   "metadata": {
    "collapsed": false
   },
   "outputs": [
    {
     "name": "stderr",
     "output_type": "stream",
     "text": [
      "C:\\Users\\jzhang11\\AppData\\Local\\Continuum\\Anaconda3\\lib\\site-packages\\matplotlib\\axes\\_axes.py:545: UserWarning: No labelled objects found. Use label='...' kwarg on individual plots.\n",
      "  warnings.warn(\"No labelled objects found. \"\n"
     ]
    }
   ],
   "source": [
    "# generate random variables\n",
    "r=chi2.rvs(df,size=1000)\n",
    "ax.hist(r, normed=True, histtype='stepfilled', alpha=0.2)\n",
    "ax.legend(loc='best', frameon=False)\n",
    "plt.show()"
   ]
  },
  {
   "cell_type": "code",
   "execution_count": 54,
   "metadata": {
    "collapsed": false
   },
   "outputs": [
    {
     "data": {
      "text/plain": [
       "numpy.ndarray"
      ]
     },
     "execution_count": 54,
     "metadata": {},
     "output_type": "execute_result"
    }
   ],
   "source": [
    "r=chi2.rvs(df, loc=0, scale=1, size=1, random_state=None)\n",
    "type(r)"
   ]
  },
  {
   "cell_type": "code",
   "execution_count": 55,
   "metadata": {
    "collapsed": false
   },
   "outputs": [
    {
     "data": {
      "text/plain": [
       "0.10260624827987348"
      ]
     },
     "execution_count": 55,
     "metadata": {},
     "output_type": "execute_result"
    }
   ],
   "source": [
    "# probility density function\n",
    "chi2.pdf(5, df=4, loc=0, scale=1)"
   ]
  },
  {
   "cell_type": "code",
   "execution_count": 56,
   "metadata": {
    "collapsed": false
   },
   "outputs": [
    {
     "data": {
      "text/plain": [
       "-2.7060380834112712"
      ]
     },
     "execution_count": 56,
     "metadata": {},
     "output_type": "execute_result"
    }
   ],
   "source": [
    "# log of the probability density function at the given point x\n",
    "x=5\n",
    "df=10\n",
    "chi2.logpdf(x, df, loc=0, scale=1)"
   ]
  },
  {
   "cell_type": "code",
   "execution_count": 58,
   "metadata": {
    "collapsed": false
   },
   "outputs": [
    {
     "data": {
      "text/plain": [
       "0.97500210485177952"
      ]
     },
     "execution_count": 58,
     "metadata": {},
     "output_type": "execute_result"
    }
   ],
   "source": [
    "#cumulative function\n",
    "stats.norm.cdf(1.96)"
   ]
  },
  {
   "cell_type": "code",
   "execution_count": 59,
   "metadata": {
    "collapsed": false
   },
   "outputs": [
    {
     "data": {
      "text/plain": [
       "-0.025315649164282163"
      ]
     },
     "execution_count": 59,
     "metadata": {},
     "output_type": "execute_result"
    }
   ],
   "source": [
    "stats.norm.logcdf(1.96)"
   ]
  },
  {
   "cell_type": "code",
   "execution_count": 62,
   "metadata": {
    "collapsed": false
   },
   "outputs": [
    {
     "data": {
      "text/plain": [
       "0.024997895148220435"
      ]
     },
     "execution_count": 62,
     "metadata": {},
     "output_type": "execute_result"
    }
   ],
   "source": [
    "stats.norm.sf(1.96)"
   ]
  },
  {
   "cell_type": "code",
   "execution_count": 63,
   "metadata": {
    "collapsed": false
   },
   "outputs": [
    {
     "data": {
      "text/plain": [
       "-1.9599639845400545"
      ]
     },
     "execution_count": 63,
     "metadata": {},
     "output_type": "execute_result"
    }
   ],
   "source": [
    "# percent point function, inverse of cdf\n",
    "stats.norm.ppf(0.025)"
   ]
  },
  {
   "cell_type": "code",
   "execution_count": 65,
   "metadata": {
    "collapsed": false
   },
   "outputs": [
    {
     "data": {
      "text/plain": [
       "(-1.959963984540054, 1.959963984540054)"
      ]
     },
     "execution_count": 65,
     "metadata": {},
     "output_type": "execute_result"
    }
   ],
   "source": [
    "stats.norm.interval(0.95)"
   ]
  },
  {
   "cell_type": "markdown",
   "metadata": {},
   "source": [
    "1. stats.beta(a,b)\n",
    "\n",
    "scale is the mean\n",
    "\n",
    "2. stats.expon(\n",
    "\n",
    "A common parameterization for expon is in terms of the rate parameter lambda, such that pdf = lambda * exp(-lambda * x). This parameterization corresponds to using scale = 1 / lambda=mean.\n",
    "\n",
    "\n",
    "3. scipy.stats.gamma\n",
    "\n",
    "4. scipy.stats.lognorm\n",
    "\n",
    "5. scipy.stats.norm\n",
    "\n",
    "6. scipy.stats.multivariate_normal\n",
    "\n",
    "7.scipy.stats.bernoulli\n",
    "\n",
    "8.scipy.stats.binom()\n",
    "\n",
    "9. scipy.stats.genom()\n",
    "\n",
    "10. scipy.stats.poisson()\n"
   ]
  },
  {
   "cell_type": "code",
   "execution_count": 75,
   "metadata": {
    "collapsed": false
   },
   "outputs": [
    {
     "data": {
      "text/plain": [
       "5.1213074895135762"
      ]
     },
     "execution_count": 75,
     "metadata": {},
     "output_type": "execute_result"
    }
   ],
   "source": [
    "import scipy.stats\n",
    "r = stats.beta.rvs(2, 3, size=1000)\n",
    "lamb=3\n",
    "scale=1/lamb\n",
    "r=stats.expon.rvs(scale,5)\n",
    "r"
   ]
  },
  {
   "cell_type": "code",
   "execution_count": 77,
   "metadata": {
    "collapsed": false
   },
   "outputs": [
    {
     "data": {
      "text/plain": [
       "9.2363568997811214"
      ]
     },
     "execution_count": 77,
     "metadata": {},
     "output_type": "execute_result"
    }
   ],
   "source": [
    "stats.chi2.ppf(0.9,5)"
   ]
  },
  {
   "cell_type": "code",
   "execution_count": null,
   "metadata": {
    "collapsed": true
   },
   "outputs": [],
   "source": []
  }
 ],
 "metadata": {
  "kernelspec": {
   "display_name": "Python 3",
   "language": "python",
   "name": "python3"
  },
  "language_info": {
   "codemirror_mode": {
    "name": "ipython",
    "version": 3
   },
   "file_extension": ".py",
   "mimetype": "text/x-python",
   "name": "python",
   "nbconvert_exporter": "python",
   "pygments_lexer": "ipython3",
   "version": "3.6.0"
  }
 },
 "nbformat": 4,
 "nbformat_minor": 2
}
